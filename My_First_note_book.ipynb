{
  "nbformat": 4,
  "nbformat_minor": 0,
  "metadata": {
    "colab": {
      "name": "My First note book.ipynb",
      "provenance": [],
      "authorship_tag": "ABX9TyOu/okY8njMnIyVM04G54s5",
      "include_colab_link": true
    },
    "kernelspec": {
      "name": "python3",
      "display_name": "Python 3"
    },
    "language_info": {
      "name": "python"
    }
  },
  "cells": [
    {
      "cell_type": "markdown",
      "metadata": {
        "id": "view-in-github",
        "colab_type": "text"
      },
      "source": [
        "<a href=\"https://colab.research.google.com/github/Ashasaily/Basic-ML/blob/main/My_First_note_book.ipynb\" target=\"_parent\"><img src=\"https://colab.research.google.com/assets/colab-badge.svg\" alt=\"Open In Colab\"/></a>"
      ]
    },
    {
      "cell_type": "markdown",
      "metadata": {
        "id": "1fd50sCqPLlm"
      },
      "source": [
        "Python program for finding even or odd:"
      ]
    },
    {
      "cell_type": "code",
      "metadata": {
        "colab": {
          "base_uri": "https://localhost:8080/"
        },
        "id": "ndcNBdpTPS1l",
        "outputId": "ea7b5eae-9dca-49e0-cacf-fdd58cf5e346"
      },
      "source": [
        "N=int(input())\n",
        "if (N%2==0):\n",
        "   print(\" Even\")\n",
        "else:\n",
        "   print (\" Odd\")"
      ],
      "execution_count": null,
      "outputs": [
        {
          "output_type": "stream",
          "text": [
            "12\n",
            " Even\n"
          ],
          "name": "stdout"
        }
      ]
    },
    {
      "cell_type": "markdown",
      "metadata": {
        "id": "f49SgdZwXVZr"
      },
      "source": [
        "Python program for finding maximum of 2 numbers"
      ]
    },
    {
      "cell_type": "code",
      "metadata": {
        "colab": {
          "base_uri": "https://localhost:8080/"
        },
        "id": "XX8iThOqVcJ0",
        "outputId": "160b41f3-9c50-4f74-a609-580f22aaea99"
      },
      "source": [
        " \n",
        "a=int(input(\"enter a:\")) \n",
        "b=int(input(\"enter b:\")) \n",
        "if (a>b):\n",
        "   print(\"max is a\")\n",
        "else:\n",
        "   print(\"max is b\")"
      ],
      "execution_count": null,
      "outputs": [
        {
          "output_type": "stream",
          "text": [
            "enter a:24\n",
            "enter b:42\n",
            "max is b\n"
          ],
          "name": "stdout"
        }
      ]
    },
    {
      "cell_type": "markdown",
      "metadata": {
        "id": "-mYTV8A7XfY-"
      },
      "source": [
        " Python program for finding leap year or not"
      ]
    },
    {
      "cell_type": "code",
      "metadata": {
        "id": "8lieJMThappC",
        "colab": {
          "base_uri": "https://localhost:8080/"
        },
        "outputId": "246f82ba-68ed-411c-e4f3-fcc1bc6e5548"
      },
      "source": [
        " \n",
        "y=int(input(\"enter a number:\")) \n",
        "if (y%4==0 and y%100!=0) or (y%400==0):\n",
        "   print(\"leap year\") \n",
        "else: \n",
        "   print(\"non leap year\")"
      ],
      "execution_count": null,
      "outputs": [
        {
          "output_type": "stream",
          "text": [
            "enter a number:2020\n",
            "leap year\n"
          ],
          "name": "stdout"
        }
      ]
    }
  ]
}